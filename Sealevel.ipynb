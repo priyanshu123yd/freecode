{
 "cells": [
  {
   "cell_type": "code",
   "execution_count": null,
   "id": "2f8c95a7-5152-48c1-911f-f68c502079dd",
   "metadata": {},
   "outputs": [],
   "source": [
    "import pandas as pd\n",
    "import matplotlib.pyplot as plt\n",
    "from scipy.stats import linregress\n",
    "\n",
    "\n",
    "def draw_plot():\n",
    "    # Read data from file\n",
    "    df = pd.read_csv('epa-sea-level.csv')\n",
    "\n",
    "    # Create scatter plot\n",
    "    plt.figure(figsize=(10, 6))\n",
    "    plt.scatter(df['Year'], df['CSIRO Adjusted Sea Level'])\n",
    "\n",
    "    # Create first line of best fit (using all data)\n",
    "    lin_regress_all = linregress(df['Year'], df['CSIRO Adjusted Sea Level'])\n",
    "    slope_all = lin_regress_all.slope\n",
    "    intercept_all = lin_regress_all.intercept\n",
    "\n",
    "    # Create a range of years to extend the line to 2050\n",
    "    years_extended_all = pd.Series(range(df['Year'].min(), 2051))\n",
    "    line_of_best_fit_all = slope_all * years_extended_all + intercept_all\n",
    "    plt.plot(years_extended_all, line_of_best_fit_all, 'r')\n",
    "\n",
    "    # Create second line of best fit (using data from year 2000 onwards)\n",
    "    df_recent = df[df['Year'] >= 2000]\n",
    "    lin_regress_recent = linregress(df_recent['Year'], df_recent['CSIRO Adjusted Sea Level'])\n",
    "    slope_recent = lin_regress_recent.slope\n",
    "    intercept_recent = lin_regress_recent.intercept\n",
    "    \n",
    "    # Create a range of years for the second line, also extending to 2050\n",
    "    years_extended_recent = pd.Series(range(2000, 2051))\n",
    "    line_of_best_fit_recent = slope_recent * years_extended_recent + intercept_recent\n",
    "    plt.plot(years_extended_recent, line_of_best_fit_recent, 'green')\n",
    "\n",
    "    # Add labels and title\n",
    "    plt.xlabel('Year')\n",
    "    plt.ylabel('Sea Level (inches)')\n",
    "    plt.title('Rise in Sea Level')\n",
    "\n",
    "    # Save plot and return figure object\n",
    "    plt.savefig('sea_level_plot.png')\n",
    "    return plt.gca()\n"
   ]
  },
  {
   "cell_type": "code",
   "execution_count": null,
   "id": "0336d48d-a0d3-4619-a559-cb403ac69caf",
   "metadata": {},
   "outputs": [],
   "source": []
  }
 ],
 "metadata": {
  "kernelspec": {
   "display_name": "Python 3 (ipykernel)",
   "language": "python",
   "name": "python3"
  },
  "language_info": {
   "codemirror_mode": {
    "name": "ipython",
    "version": 3
   },
   "file_extension": ".py",
   "mimetype": "text/x-python",
   "name": "python",
   "nbconvert_exporter": "python",
   "pygments_lexer": "ipython3",
   "version": "3.11.3"
  }
 },
 "nbformat": 4,
 "nbformat_minor": 5
}
